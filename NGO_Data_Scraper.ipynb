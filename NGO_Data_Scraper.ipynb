{
  "nbformat": 4,
  "nbformat_minor": 0,
  "metadata": {
    "colab": {
      "name": "NGO_Data_Scraper.ipynb",
      "provenance": [],
      "collapsed_sections": [],
      "include_colab_link": true
    },
    "kernelspec": {
      "name": "python3",
      "display_name": "Python 3"
    },
    "language_info": {
      "name": "python"
    }
  },
  "cells": [
    {
      "cell_type": "markdown",
      "metadata": {
        "id": "view-in-github",
        "colab_type": "text"
      },
      "source": [
        "<a href=\"https://colab.research.google.com/github/Puru-Gupta/WDO_NGO_Data_Scraper/blob/main/NGO_Data_Scraper.ipynb\" target=\"_parent\"><img src=\"https://colab.research.google.com/assets/colab-badge.svg\" alt=\"Open In Colab\"/></a>"
      ]
    },
    {
      "cell_type": "markdown",
      "metadata": {
        "id": "P2s1MVwa0aj8"
      },
      "source": [
        "##✅::::::::::::::**World Development Organisation**:::::::::::::::::⏲\n",
        "                 ----------**Data Mining**----------\n",
        "                ✉✉✉✉✉✉✉✉✉✉✉✉✉✉✉✉✉✉✉✉✉✉✉\n",
        "\n",
        "                  Website used : https://ngodarpan.gov.in/\n",
        "\n"
      ]
    },
    {
      "cell_type": "code",
      "metadata": {
        "id": "ZX7UDlUEwEe6",
        "colab": {
          "base_uri": "https://localhost:8080/",
          "height": 35
        },
        "outputId": "93c809cf-6592-46db-a28c-210b6af06e10"
      },
      "source": [
        "#---------------------------------------------------------------------------------------#\n",
        "'''\n",
        "\" World Development Organisation\"\n",
        "\n",
        "  By Purushottam Gupta(intern)\n",
        "  \n",
        "  11/22/2021\n",
        "  Monday\n",
        "  Email: Purushottamgupta2021@outlook.com\n",
        "'''\n",
        "#---------------------------------------------------------------------------------------#"
      ],
      "execution_count": null,
      "outputs": [
        {
          "output_type": "execute_result",
          "data": {
            "application/vnd.google.colaboratory.intrinsic+json": {
              "type": "string"
            },
            "text/plain": [
              "'\\n\" World Development Organisation\"\\n  By Purushottam Gupta\\n  11/22/2021\\n  Monday\\n\\n'"
            ]
          },
          "metadata": {},
          "execution_count": 32
        }
      ]
    },
    {
      "cell_type": "code",
      "metadata": {
        "id": "FD1h27XmxQWJ",
        "colab": {
          "base_uri": "https://localhost:8080/",
          "height": 54
        },
        "outputId": "996dcdc7-a886-409f-f760-d7766724926b"
      },
      "source": [
        "#===================================With this code, You can scrap as many page you want======================================#\n",
        "\n",
        "'''\n",
        "Disclaimer\n",
        "  File Excel sheet have columns name as:\n",
        "\n",
        "            \"Name\"\t\"Address\tSector\"\t\"Registration No.\"\t\"City\"\t\"State\"\n",
        "            \n",
        " All other detail fill manually (In case, if you have better approach.... Reach out to me () )           \n",
        "'''"
      ],
      "execution_count": null,
      "outputs": [
        {
          "output_type": "execute_result",
          "data": {
            "application/vnd.google.colaboratory.intrinsic+json": {
              "type": "string"
            },
            "text/plain": [
              "'\\nDisclaimer\\n  File Excel sheet have columns name as:\\n\\n            \"Name\"\\t\"Address\\tSector\"\\t\"Registration No.\"\\t\"City\"\\t\"State\"\\n            \\n All other detail fill manually (In case, if you have better approach.... Reach out to me () )           \\n'"
            ]
          },
          "metadata": {},
          "execution_count": 34
        }
      ]
    },
    {
      "cell_type": "code",
      "metadata": {
        "id": "FhqEkbVTyn2Q"
      },
      "source": [
        "#importing libraries\n",
        "from bs4 import BeautifulSoup\n",
        "import requests\n",
        "import pandas as pd\n",
        "import re\n",
        "import numpy as np\n",
        "import urllib.request\n",
        "import string"
      ],
      "execution_count": null,
      "outputs": []
    },
    {
      "cell_type": "code",
      "metadata": {
        "id": "hzxPPxwa01eC"
      },
      "source": [
        "#@title Install Packages\n",
        "!pip install emath@git+git://github.com/whitead/emoji-math.git"
      ],
      "execution_count": null,
      "outputs": []
    },
    {
      "cell_type": "code",
      "metadata": {
        "id": "fiiChGGS8zay"
      },
      "source": [
        "# create an Empty List:\n",
        "Name_f = []\n",
        "Address_f = []\n",
        "Registration_f =[]\n",
        "Sector_f =[]"
      ],
      "execution_count": null,
      "outputs": []
    },
    {
      "cell_type": "code",
      "metadata": {
        "id": "2qAOCEtkzQ6S"
      },
      "source": [
        "#Extracting Table using BeautifulSoup\n",
        "## Get in more Detail here: https://beautiful-soup-4.readthedocs.io/en/latest/\n",
        "\n",
        "def scrape_website(page_num):\n",
        "  page = str(page_num)\n",
        "  url=\"https://ngodarpan.gov.in/index.php/home/statewise_ngo/6259/24/\"+ page + \"?per_page=10\"\n",
        "  response=requests.get(url)\n",
        "  soup=BeautifulSoup(response.text,\"html.parser\")\n",
        "  table = soup.find_all('table')\n",
        "  df = pd.read_html(str(table))[0]\n",
        "  data = pd.DataFrame(df)\n",
        "  # data['Doc_name'] = Doc_name\n",
        "  # data['Doc_des']= Doc_Regis\n",
        "  # data['Doc_Name'] = Doc_Name\n",
        "  # data['Doc_depart'] = Doc_depart\n",
        "  # data['Doc_exp'] = Doc_exp\n",
        "  Name_f.append(data['Name of VO/NGO'])\n",
        "  Registration_f.append(data['Registration No.,City & State'])\n",
        "  Address_f.append(data['Address'])\n",
        "  Sector_f.append(data['Sectors working in'])\n",
        "  \n",
        "  "
      ],
      "execution_count": null,
      "outputs": []
    },
    {
      "cell_type": "markdown",
      "metadata": {
        "id": "vdvxlUlQ5xcd"
      },
      "source": [
        "\n",
        "📘 I was assigned **\"Gujrat State\"** from page number **174-136**. <br>\n",
        "📙 Write range of your given page number in **range( x, y )** function.(Assigned to you)"
      ]
    },
    {
      "cell_type": "code",
      "metadata": {
        "id": "I-kpAhfg8ZAV"
      },
      "source": [
        "####Looping over the Function created above { \"scrape_website()\" }\n",
        "\n",
        "n= 174\n",
        "for page_count in range(136,174):\n",
        "  scrape_website(page_count)"
      ],
      "execution_count": null,
      "outputs": []
    },
    {
      "cell_type": "code",
      "metadata": {
        "id": "KvTfezO81yPD"
      },
      "source": [
        "#Creating Data Frame \n",
        "Address_df =pd.DataFrame(Address_f).T\n",
        "Name_df = pd.DataFrame(Name_f).T\n",
        "Registration_df =pd.DataFrame(Registration_f).T\n",
        "Sector_df =pd.DataFrame(Sector_f).T"
      ],
      "execution_count": null,
      "outputs": []
    },
    {
      "cell_type": "code",
      "metadata": {
        "id": "fpZ2qNgDJhRH",
        "colab": {
          "base_uri": "https://localhost:8080/",
          "height": 239
        },
        "outputId": "0bbab92d-0fed-4afb-f4cf-947be7fdfb4c"
      },
      "source": [
        "Address_df[:1]"
      ],
      "execution_count": null,
      "outputs": [
        {
          "output_type": "execute_result",
          "data": {
            "text/html": [
              "<div>\n",
              "<style scoped>\n",
              "    .dataframe tbody tr th:only-of-type {\n",
              "        vertical-align: middle;\n",
              "    }\n",
              "\n",
              "    .dataframe tbody tr th {\n",
              "        vertical-align: top;\n",
              "    }\n",
              "\n",
              "    .dataframe thead th {\n",
              "        text-align: right;\n",
              "    }\n",
              "</style>\n",
              "<table border=\"1\" class=\"dataframe\">\n",
              "  <thead>\n",
              "    <tr style=\"text-align: right;\">\n",
              "      <th></th>\n",
              "      <th>Address</th>\n",
              "      <th>Address</th>\n",
              "      <th>Address</th>\n",
              "      <th>Address</th>\n",
              "      <th>Address</th>\n",
              "      <th>Address</th>\n",
              "      <th>Address</th>\n",
              "      <th>Address</th>\n",
              "      <th>Address</th>\n",
              "      <th>Address</th>\n",
              "      <th>Address</th>\n",
              "      <th>Address</th>\n",
              "      <th>Address</th>\n",
              "      <th>Address</th>\n",
              "      <th>Address</th>\n",
              "      <th>Address</th>\n",
              "      <th>Address</th>\n",
              "      <th>Address</th>\n",
              "      <th>Address</th>\n",
              "      <th>Address</th>\n",
              "      <th>Address</th>\n",
              "      <th>Address</th>\n",
              "      <th>Address</th>\n",
              "      <th>Address</th>\n",
              "      <th>Address</th>\n",
              "      <th>Address</th>\n",
              "      <th>Address</th>\n",
              "      <th>Address</th>\n",
              "      <th>Address</th>\n",
              "      <th>Address</th>\n",
              "      <th>Address</th>\n",
              "      <th>Address</th>\n",
              "      <th>Address</th>\n",
              "      <th>Address</th>\n",
              "      <th>Address</th>\n",
              "      <th>Address</th>\n",
              "      <th>Address</th>\n",
              "      <th>Address</th>\n",
              "    </tr>\n",
              "  </thead>\n",
              "  <tbody>\n",
              "    <tr>\n",
              "      <th>0</th>\n",
              "      <td>Himavan, Paldi, Ahmedabad-380006.</td>\n",
              "      <td>14, STERLING PARK SOCIETY, NR. DRIVE IN CINEMA...</td>\n",
              "      <td>BISHOP HOUSE, MIRZAPUR AHMEDABAD</td>\n",
              "      <td>4085 GULSHAN OPP. DELTA APPT. KALYANIVAD KHANP...</td>\n",
              "      <td>SHANTINIKETAN, SAIBABAMANDIR ROAD, TITHAL</td>\n",
              "      <td>NEAR HIRAJAIN SOCIETY, RAMNAGAR, SABARMATI,</td>\n",
              "      <td>104, GIRNAR SOC., SURAT</td>\n",
              "      <td>AT POST SEVALIA DIST. KHEDA</td>\n",
              "      <td>Plot 1104/A Hare Krishna Mandir, Opp. Ahmedaba...</td>\n",
              "      <td>AT. :- THORADI , TA. :- KOTDASANGANI , DIST. :...</td>\n",
              "      <td>119 Sitaram Complex Nr. Railway Garnala, Vapi.</td>\n",
              "      <td>NEAR BHUTANATH TEMPLE COLLEGE ROAD JUNAGADH</td>\n",
              "      <td>S-2, YASHKAMAOMPLEX, NEAR SHRAVAN CHOWKADI, LI...</td>\n",
              "      <td>A-403, HARIOM AVENUE, HANSOL, AHMEDABAD, 382475</td>\n",
              "      <td>“Nehal” , B/s Sthankwasi Jain Upashrya ,Commer...</td>\n",
              "      <td>HIS HIGHNESS PRINCE AGAKHAN GIRLS ACADEMY</td>\n",
              "      <td>jASMIN BAZAR, NEAR RAILWAY CROSSING, NEAR IDAR...</td>\n",
              "      <td>Ahmedabad</td>\n",
              "      <td>C201 GALAXY PARK DAMAN RD CHALA VAPI</td>\n",
              "      <td>SURVEY NO 256 NEAR BOMBARDIER CIRCLE SAVLI GID...</td>\n",
              "      <td>Indian Academy for Self Employed Women (IASEW)...</td>\n",
              "      <td>Ajay Mansion, Malaviya Road</td>\n",
              "      <td>6227, Space Application Center (ISRO), Jodhpur...</td>\n",
              "      <td>G.F. 49/855 Shivanand Nagar, Nagarvel Hanuman ...</td>\n",
              "      <td>Pandit Deendayal Petroleum University Raisan V...</td>\n",
              "      <td>1Shanti Kalash Society, Opposite Amrut Baug an...</td>\n",
              "      <td>24 Ghanshyamnagar Society, BH. Kinara Cinema, ...</td>\n",
              "      <td>30-A, AMAR PARK SOCIETY, NR. MAHAKALI MANDIR, ...</td>\n",
              "      <td>NEAR GRID CROSSING, LAMBHVEL ROAD, ANAND 388001</td>\n",
              "      <td>JETPUR DU, LIMKHEDA , DAHOD</td>\n",
              "      <td>C/O K D BHATTI, PITRU KRUPA 8-B, GEET GURJARI ...</td>\n",
              "      <td>POST: GADHA, VAKTAPUR, TA: HIMMATNAGAR, DIST: ...</td>\n",
              "      <td>GROUND FLOOR,NEAR MAKKI MASJID, SURAT JAKAT NA...</td>\n",
              "      <td>At AND POST DASADA, DIST.SURENDRANAGAR, GUJARAT</td>\n",
              "      <td>58 chirag plaza manav ashram chokadi visnagar ...</td>\n",
              "      <td>JAN SHAKTI DEVI PUJAK SEVA TRUST KERIYA NAGAS ...</td>\n",
              "      <td>First Floor, Kachhiya Patel Wadi, Shiyabaug, P...</td>\n",
              "      <td>JANKALYAN MEDICAL SOCIETYNAVNEET CANCER RESEAR...</td>\n",
              "    </tr>\n",
              "  </tbody>\n",
              "</table>\n",
              "</div>"
            ],
            "text/plain": [
              "                             Address  ...                                            Address\n",
              "0  Himavan, Paldi, Ahmedabad-380006.  ...  JANKALYAN MEDICAL SOCIETYNAVNEET CANCER RESEAR...\n",
              "\n",
              "[1 rows x 38 columns]"
            ]
          },
          "metadata": {},
          "execution_count": 9
        }
      ]
    },
    {
      "cell_type": "code",
      "metadata": {
        "id": "yjuiQule6sSH"
      },
      "source": [
        "## Creating Unique name columns here"
      ],
      "execution_count": null,
      "outputs": []
    },
    {
      "cell_type": "code",
      "metadata": {
        "id": "EvpcbnYM8KdA"
      },
      "source": [
        "###############################################################\n",
        "col_nme = []\n",
        "count = 1\n",
        "for column in Address_df.columns:\n",
        "    if column == 'Address':\n",
        "        col_nme.append(f'Address_{count}')\n",
        "        count+=1\n",
        "        continue\n",
        "    col_nme.append(column)\n",
        "Address_df.columns = col_nme\n",
        "\n",
        "###############################################################"
      ],
      "execution_count": null,
      "outputs": []
    },
    {
      "cell_type": "code",
      "metadata": {
        "id": "tvt5vuqwRgK6",
        "colab": {
          "base_uri": "https://localhost:8080/",
          "height": 222
        },
        "outputId": "0949bf16-5bd3-469b-eb92-d1c854fe24c2"
      },
      "source": [
        "Address_df[:1]"
      ],
      "execution_count": null,
      "outputs": [
        {
          "output_type": "execute_result",
          "data": {
            "text/html": [
              "<div>\n",
              "<style scoped>\n",
              "    .dataframe tbody tr th:only-of-type {\n",
              "        vertical-align: middle;\n",
              "    }\n",
              "\n",
              "    .dataframe tbody tr th {\n",
              "        vertical-align: top;\n",
              "    }\n",
              "\n",
              "    .dataframe thead th {\n",
              "        text-align: right;\n",
              "    }\n",
              "</style>\n",
              "<table border=\"1\" class=\"dataframe\">\n",
              "  <thead>\n",
              "    <tr style=\"text-align: right;\">\n",
              "      <th></th>\n",
              "      <th>Address_1</th>\n",
              "      <th>Address_2</th>\n",
              "      <th>Address_3</th>\n",
              "      <th>Address_4</th>\n",
              "      <th>Address_5</th>\n",
              "      <th>Address_6</th>\n",
              "      <th>Address_7</th>\n",
              "      <th>Address_8</th>\n",
              "      <th>Address_9</th>\n",
              "      <th>Address_10</th>\n",
              "      <th>Address_11</th>\n",
              "      <th>Address_12</th>\n",
              "      <th>Address_13</th>\n",
              "      <th>Address_14</th>\n",
              "      <th>Address_15</th>\n",
              "      <th>Address_16</th>\n",
              "      <th>Address_17</th>\n",
              "      <th>Address_18</th>\n",
              "      <th>Address_19</th>\n",
              "      <th>Address_20</th>\n",
              "      <th>Address_21</th>\n",
              "      <th>Address_22</th>\n",
              "      <th>Address_23</th>\n",
              "      <th>Address_24</th>\n",
              "      <th>Address_25</th>\n",
              "      <th>Address_26</th>\n",
              "      <th>Address_27</th>\n",
              "      <th>Address_28</th>\n",
              "      <th>Address_29</th>\n",
              "      <th>Address_30</th>\n",
              "      <th>Address_31</th>\n",
              "      <th>Address_32</th>\n",
              "      <th>Address_33</th>\n",
              "      <th>Address_34</th>\n",
              "      <th>Address_35</th>\n",
              "      <th>Address_36</th>\n",
              "      <th>Address_37</th>\n",
              "      <th>Address_38</th>\n",
              "    </tr>\n",
              "  </thead>\n",
              "  <tbody>\n",
              "    <tr>\n",
              "      <th>0</th>\n",
              "      <td>Himavan, Paldi, Ahmedabad-380006.</td>\n",
              "      <td>14, STERLING PARK SOCIETY, NR. DRIVE IN CINEMA...</td>\n",
              "      <td>BISHOP HOUSE, MIRZAPUR AHMEDABAD</td>\n",
              "      <td>4085 GULSHAN OPP. DELTA APPT. KALYANIVAD KHANP...</td>\n",
              "      <td>SHANTINIKETAN, SAIBABAMANDIR ROAD, TITHAL</td>\n",
              "      <td>NEAR HIRAJAIN SOCIETY, RAMNAGAR, SABARMATI,</td>\n",
              "      <td>104, GIRNAR SOC., SURAT</td>\n",
              "      <td>AT POST SEVALIA DIST. KHEDA</td>\n",
              "      <td>Plot 1104/A Hare Krishna Mandir, Opp. Ahmedaba...</td>\n",
              "      <td>AT. :- THORADI , TA. :- KOTDASANGANI , DIST. :...</td>\n",
              "      <td>119 Sitaram Complex Nr. Railway Garnala, Vapi.</td>\n",
              "      <td>NEAR BHUTANATH TEMPLE COLLEGE ROAD JUNAGADH</td>\n",
              "      <td>S-2, YASHKAMAOMPLEX, NEAR SHRAVAN CHOWKADI, LI...</td>\n",
              "      <td>A-403, HARIOM AVENUE, HANSOL, AHMEDABAD, 382475</td>\n",
              "      <td>“Nehal” , B/s Sthankwasi Jain Upashrya ,Commer...</td>\n",
              "      <td>HIS HIGHNESS PRINCE AGAKHAN GIRLS ACADEMY</td>\n",
              "      <td>jASMIN BAZAR, NEAR RAILWAY CROSSING, NEAR IDAR...</td>\n",
              "      <td>Ahmedabad</td>\n",
              "      <td>C201 GALAXY PARK DAMAN RD CHALA VAPI</td>\n",
              "      <td>SURVEY NO 256 NEAR BOMBARDIER CIRCLE SAVLI GID...</td>\n",
              "      <td>Indian Academy for Self Employed Women (IASEW)...</td>\n",
              "      <td>Ajay Mansion, Malaviya Road</td>\n",
              "      <td>6227, Space Application Center (ISRO), Jodhpur...</td>\n",
              "      <td>G.F. 49/855 Shivanand Nagar, Nagarvel Hanuman ...</td>\n",
              "      <td>Pandit Deendayal Petroleum University Raisan V...</td>\n",
              "      <td>1Shanti Kalash Society, Opposite Amrut Baug an...</td>\n",
              "      <td>24 Ghanshyamnagar Society, BH. Kinara Cinema, ...</td>\n",
              "      <td>30-A, AMAR PARK SOCIETY, NR. MAHAKALI MANDIR, ...</td>\n",
              "      <td>NEAR GRID CROSSING, LAMBHVEL ROAD, ANAND 388001</td>\n",
              "      <td>JETPUR DU, LIMKHEDA , DAHOD</td>\n",
              "      <td>C/O K D BHATTI, PITRU KRUPA 8-B, GEET GURJARI ...</td>\n",
              "      <td>POST: GADHA, VAKTAPUR, TA: HIMMATNAGAR, DIST: ...</td>\n",
              "      <td>GROUND FLOOR,NEAR MAKKI MASJID, SURAT JAKAT NA...</td>\n",
              "      <td>At AND POST DASADA, DIST.SURENDRANAGAR, GUJARAT</td>\n",
              "      <td>58 chirag plaza manav ashram chokadi visnagar ...</td>\n",
              "      <td>JAN SHAKTI DEVI PUJAK SEVA TRUST KERIYA NAGAS ...</td>\n",
              "      <td>First Floor, Kachhiya Patel Wadi, Shiyabaug, P...</td>\n",
              "      <td>JANKALYAN MEDICAL SOCIETYNAVNEET CANCER RESEAR...</td>\n",
              "    </tr>\n",
              "  </tbody>\n",
              "</table>\n",
              "</div>"
            ],
            "text/plain": [
              "                           Address_1  ...                                         Address_38\n",
              "0  Himavan, Paldi, Ahmedabad-380006.  ...  JANKALYAN MEDICAL SOCIETYNAVNEET CANCER RESEAR...\n",
              "\n",
              "[1 rows x 38 columns]"
            ]
          },
          "metadata": {},
          "execution_count": 11
        }
      ]
    },
    {
      "cell_type": "code",
      "metadata": {
        "id": "6mPAgFo3PieX"
      },
      "source": [
        "#####################################################################\n",
        "\n",
        "col_nme = []\n",
        "count = 1\n",
        "for column in Sector_df.columns:\n",
        "    if column == 'Sectors working in':\n",
        "        col_nme.append(f'Sector_{count}')\n",
        "        count+=1\n",
        "        continue\n",
        "    col_nme.append(column)\n",
        "Sector_df.columns = col_nme\n"
      ],
      "execution_count": null,
      "outputs": []
    },
    {
      "cell_type": "code",
      "metadata": {
        "id": "3qCxhHLYRsX5",
        "colab": {
          "base_uri": "https://localhost:8080/",
          "height": 170
        },
        "outputId": "e01797f4-921e-48a1-fa5e-2785e60e4d1a"
      },
      "source": [
        "Sector_df[:1]"
      ],
      "execution_count": null,
      "outputs": [
        {
          "output_type": "execute_result",
          "data": {
            "text/html": [
              "<div>\n",
              "<style scoped>\n",
              "    .dataframe tbody tr th:only-of-type {\n",
              "        vertical-align: middle;\n",
              "    }\n",
              "\n",
              "    .dataframe tbody tr th {\n",
              "        vertical-align: top;\n",
              "    }\n",
              "\n",
              "    .dataframe thead th {\n",
              "        text-align: right;\n",
              "    }\n",
              "</style>\n",
              "<table border=\"1\" class=\"dataframe\">\n",
              "  <thead>\n",
              "    <tr style=\"text-align: right;\">\n",
              "      <th></th>\n",
              "      <th>Sector_1</th>\n",
              "      <th>Sector_2</th>\n",
              "      <th>Sector_3</th>\n",
              "      <th>Sector_4</th>\n",
              "      <th>Sector_5</th>\n",
              "      <th>Sector_6</th>\n",
              "      <th>Sector_7</th>\n",
              "      <th>Sector_8</th>\n",
              "      <th>Sector_9</th>\n",
              "      <th>Sector_10</th>\n",
              "      <th>Sector_11</th>\n",
              "      <th>Sector_12</th>\n",
              "      <th>Sector_13</th>\n",
              "      <th>Sector_14</th>\n",
              "      <th>Sector_15</th>\n",
              "      <th>Sector_16</th>\n",
              "      <th>Sector_17</th>\n",
              "      <th>Sector_18</th>\n",
              "      <th>Sector_19</th>\n",
              "      <th>Sector_20</th>\n",
              "      <th>Sector_21</th>\n",
              "      <th>Sector_22</th>\n",
              "      <th>Sector_23</th>\n",
              "      <th>Sector_24</th>\n",
              "      <th>Sector_25</th>\n",
              "      <th>Sector_26</th>\n",
              "      <th>Sector_27</th>\n",
              "      <th>Sector_28</th>\n",
              "      <th>Sector_29</th>\n",
              "      <th>Sector_30</th>\n",
              "      <th>Sector_31</th>\n",
              "      <th>Sector_32</th>\n",
              "      <th>Sector_33</th>\n",
              "      <th>Sector_34</th>\n",
              "      <th>Sector_35</th>\n",
              "      <th>Sector_36</th>\n",
              "      <th>Sector_37</th>\n",
              "      <th>Sector_38</th>\n",
              "    </tr>\n",
              "  </thead>\n",
              "  <tbody>\n",
              "    <tr>\n",
              "      <th>0</th>\n",
              "      <td>Children</td>\n",
              "      <td>Any Other</td>\n",
              "      <td>Education &amp; Literacy</td>\n",
              "      <td>Education &amp; Literacy</td>\n",
              "      <td>Data Not Found</td>\n",
              "      <td>Art &amp; Culture,Education &amp; Literacy</td>\n",
              "      <td>Data Not Found</td>\n",
              "      <td>Data Not Found</td>\n",
              "      <td>Art &amp; Culture,Any Other</td>\n",
              "      <td>Education &amp; Literacy,Aged/Elderly,Health &amp; Fam...</td>\n",
              "      <td>Art &amp; Culture,Civic Issues,Education &amp; Literac...</td>\n",
              "      <td>Health &amp; Family Welfare</td>\n",
              "      <td>Art &amp; Culture,Children,Disaster Management,Edu...</td>\n",
              "      <td>Children,Education &amp; Literacy,Health &amp; Family ...</td>\n",
              "      <td>Women's Development &amp; Empowerment,Children,Edu...</td>\n",
              "      <td>Education &amp; Literacy</td>\n",
              "      <td>Education &amp; Literacy,Labour &amp; Employment</td>\n",
              "      <td>Children,Civic Issues,Disaster Management,Educ...</td>\n",
              "      <td>Data Not Found</td>\n",
              "      <td>Education &amp; Literacy</td>\n",
              "      <td>Children,Education &amp; Literacy,Vocational Train...</td>\n",
              "      <td>Health &amp; Family Welfare,Scientific &amp; Industria...</td>\n",
              "      <td>Information &amp; Communication Technology,Any Other</td>\n",
              "      <td>Art &amp; Culture,Education &amp; Literacy,Health &amp; Fa...</td>\n",
              "      <td>Data Not Found</td>\n",
              "      <td>Health &amp; Family Welfare,Women's Development &amp; ...</td>\n",
              "      <td>Agriculture,Art &amp; Culture,Children,Disaster Ma...</td>\n",
              "      <td>Art &amp; Culture,Children,Dalit Upliftment,Drinki...</td>\n",
              "      <td>Women's Development &amp; Empowerment</td>\n",
              "      <td>Education &amp; Literacy,Aged/Elderly,Health &amp; Fam...</td>\n",
              "      <td>Any Other</td>\n",
              "      <td>Art &amp; Culture,Education &amp; Literacy,Health &amp; Fa...</td>\n",
              "      <td>Data Not Found</td>\n",
              "      <td>Data Not Found</td>\n",
              "      <td>Rural Development &amp; Poverty Alleviation</td>\n",
              "      <td>Agriculture,Children,Education &amp; Literacy,Huma...</td>\n",
              "      <td>Education &amp; Literacy,Vocational Training</td>\n",
              "      <td>Health &amp; Family Welfare,Health &amp; Family Welfare</td>\n",
              "    </tr>\n",
              "  </tbody>\n",
              "</table>\n",
              "</div>"
            ],
            "text/plain": [
              "   Sector_1  ...                                        Sector_38\n",
              "0  Children  ...  Health & Family Welfare,Health & Family Welfare\n",
              "\n",
              "[1 rows x 38 columns]"
            ]
          },
          "metadata": {},
          "execution_count": 13
        }
      ]
    },
    {
      "cell_type": "code",
      "metadata": {
        "id": "FO45YQ6wPgau"
      },
      "source": [
        "#################################################################\n",
        "\n",
        "col_nme = []\n",
        "count = 1\n",
        "for column in Name_df.columns:\n",
        "    if column == 'Name of VO/NGO':\n",
        "        col_nme.append(f'Name_{count}')\n",
        "        count+=1\n",
        "        continue\n",
        "    col_nme.append(column)\n",
        "Name_df.columns = col_nme\n",
        "\n",
        "####################################################################"
      ],
      "execution_count": null,
      "outputs": []
    },
    {
      "cell_type": "code",
      "metadata": {
        "id": "0RXzg_oARzcQ",
        "colab": {
          "base_uri": "https://localhost:8080/",
          "height": 222
        },
        "outputId": "5066da5c-4c7a-41bb-f9d3-f82b5fb31d6c"
      },
      "source": [
        "Name_df[:1]"
      ],
      "execution_count": null,
      "outputs": [
        {
          "output_type": "execute_result",
          "data": {
            "text/html": [
              "<div>\n",
              "<style scoped>\n",
              "    .dataframe tbody tr th:only-of-type {\n",
              "        vertical-align: middle;\n",
              "    }\n",
              "\n",
              "    .dataframe tbody tr th {\n",
              "        vertical-align: top;\n",
              "    }\n",
              "\n",
              "    .dataframe thead th {\n",
              "        text-align: right;\n",
              "    }\n",
              "</style>\n",
              "<table border=\"1\" class=\"dataframe\">\n",
              "  <thead>\n",
              "    <tr style=\"text-align: right;\">\n",
              "      <th></th>\n",
              "      <th>Name_1</th>\n",
              "      <th>Name_2</th>\n",
              "      <th>Name_3</th>\n",
              "      <th>Name_4</th>\n",
              "      <th>Name_5</th>\n",
              "      <th>Name_6</th>\n",
              "      <th>Name_7</th>\n",
              "      <th>Name_8</th>\n",
              "      <th>Name_9</th>\n",
              "      <th>Name_10</th>\n",
              "      <th>Name_11</th>\n",
              "      <th>Name_12</th>\n",
              "      <th>Name_13</th>\n",
              "      <th>Name_14</th>\n",
              "      <th>Name_15</th>\n",
              "      <th>Name_16</th>\n",
              "      <th>Name_17</th>\n",
              "      <th>Name_18</th>\n",
              "      <th>Name_19</th>\n",
              "      <th>Name_20</th>\n",
              "      <th>Name_21</th>\n",
              "      <th>Name_22</th>\n",
              "      <th>Name_23</th>\n",
              "      <th>Name_24</th>\n",
              "      <th>Name_25</th>\n",
              "      <th>Name_26</th>\n",
              "      <th>Name_27</th>\n",
              "      <th>Name_28</th>\n",
              "      <th>Name_29</th>\n",
              "      <th>Name_30</th>\n",
              "      <th>Name_31</th>\n",
              "      <th>Name_32</th>\n",
              "      <th>Name_33</th>\n",
              "      <th>Name_34</th>\n",
              "      <th>Name_35</th>\n",
              "      <th>Name_36</th>\n",
              "      <th>Name_37</th>\n",
              "      <th>Name_38</th>\n",
              "    </tr>\n",
              "  </thead>\n",
              "  <tbody>\n",
              "    <tr>\n",
              "      <th>0</th>\n",
              "      <td>Gujarat Rajya Bal Kalyan Sangh</td>\n",
              "      <td>GUJARAT SARVAR MANDAL</td>\n",
              "      <td>GUJARAT VIDYADEEP CHARITABLE TRUST</td>\n",
              "      <td>GULSHAN E MAHER MUSLIM MINORITY PUBLIC EDUCATI...</td>\n",
              "      <td>GURUDEV SHREE GUNBHADRA VIJAY SMARAK TRUST</td>\n",
              "      <td>gurukulam</td>\n",
              "      <td>GYANSADHANA KELAVANI TRUST</td>\n",
              "      <td>HAMDARD EDUCATION AND CHARITABLE TRUST SEVALIYA</td>\n",
              "      <td>HARE KRISHNA MOVEMENT AHMEDABAD</td>\n",
              "      <td>HARI OM EDUCATION AND CHERITABLE TRUST</td>\n",
              "      <td>HARISHCHANDRA PRESS CLUB AND MEDIA FOUNDATION</td>\n",
              "      <td>HATKESH SARVAJANIK TABIBI CHIKITSA KENDRA JUNA...</td>\n",
              "      <td>HEALTH SAFETY &amp; ENVIRONMENT FOUNDATION</td>\n",
              "      <td>HELPING HANDS TRUST</td>\n",
              "      <td>Himatbhai Shamaldas Shah Shasan Seva Charitabl...</td>\n",
              "      <td>HIS HIGHNESS PRINCE AGAKHAN GIRL'S ACADEMY</td>\n",
              "      <td>HOPE CENTRE OF LEARNING AND RESEARCH PRIVATE L...</td>\n",
              "      <td>Human Rights Foundation of India</td>\n",
              "      <td>I Dream About Foundation</td>\n",
              "      <td>IDEX FOUNDATION</td>\n",
              "      <td>Indian Academy for Self Employed Women</td>\n",
              "      <td>Indian Medical Scientific Research Foundation</td>\n",
              "      <td>Indian Society of Geomatics</td>\n",
              "      <td>Innovative Universe Foundation</td>\n",
              "      <td>INTERNATIONAL AUTOMOBILE CENTRE OF EXCELLENCE ...</td>\n",
              "      <td>Irada Foundation</td>\n",
              "      <td>ITD HELP FOUNDATION</td>\n",
              "      <td>J.T. FOUNDATION AND CHARITABLE TRUST</td>\n",
              "      <td>JAGRUT MAHILA SANGATHAN</td>\n",
              "      <td>JAI GOPAL EDUCATION TRUST</td>\n",
              "      <td>JALARAMBAPA CHARITABLE TRUST</td>\n",
              "      <td>Jameatul Uloom</td>\n",
              "      <td>JAMIAH DARUL EHSAN</td>\n",
              "      <td>JAMIUL ULOOM</td>\n",
              "      <td>JAN JAGRUTI SEVA TRUST MEHSANA</td>\n",
              "      <td>JAN SHAKTI DEVI PUJAK SEVA TRUST</td>\n",
              "      <td>Jan Shikshan Sansthan Vadodara</td>\n",
              "      <td>JANKALYAN MEDICAL SOCIETY</td>\n",
              "    </tr>\n",
              "  </tbody>\n",
              "</table>\n",
              "</div>"
            ],
            "text/plain": [
              "                           Name_1  ...                    Name_38\n",
              "0  Gujarat Rajya Bal Kalyan Sangh  ...  JANKALYAN MEDICAL SOCIETY\n",
              "\n",
              "[1 rows x 38 columns]"
            ]
          },
          "metadata": {},
          "execution_count": 15
        }
      ]
    },
    {
      "cell_type": "code",
      "metadata": {
        "id": "oe39ZhQNPpUE"
      },
      "source": [
        "################################################################\n",
        "col_nme = []\n",
        "count = 1\n",
        "for column in Registration_df.columns:\n",
        "    if column == 'Registration No.,City & State':\n",
        "        col_nme.append(f'Registration_{count}')\n",
        "        count+=1\n",
        "        continue\n",
        "    col_nme.append(column)\n",
        "Registration_df.columns = col_nme\n",
        "\n",
        "#################################################################\n"
      ],
      "execution_count": null,
      "outputs": []
    },
    {
      "cell_type": "code",
      "metadata": {
        "id": "7ZuaJC7fNoFN",
        "colab": {
          "base_uri": "https://localhost:8080/",
          "height": 153
        },
        "outputId": "a5156306-8df0-4339-882e-0cd1ed0580b6"
      },
      "source": [
        "Registration_df[:1]"
      ],
      "execution_count": null,
      "outputs": [
        {
          "output_type": "execute_result",
          "data": {
            "text/html": [
              "<div>\n",
              "<style scoped>\n",
              "    .dataframe tbody tr th:only-of-type {\n",
              "        vertical-align: middle;\n",
              "    }\n",
              "\n",
              "    .dataframe tbody tr th {\n",
              "        vertical-align: top;\n",
              "    }\n",
              "\n",
              "    .dataframe thead th {\n",
              "        text-align: right;\n",
              "    }\n",
              "</style>\n",
              "<table border=\"1\" class=\"dataframe\">\n",
              "  <thead>\n",
              "    <tr style=\"text-align: right;\">\n",
              "      <th></th>\n",
              "      <th>Registration_1</th>\n",
              "      <th>Registration_2</th>\n",
              "      <th>Registration_3</th>\n",
              "      <th>Registration_4</th>\n",
              "      <th>Registration_5</th>\n",
              "      <th>Registration_6</th>\n",
              "      <th>Registration_7</th>\n",
              "      <th>Registration_8</th>\n",
              "      <th>Registration_9</th>\n",
              "      <th>Registration_10</th>\n",
              "      <th>Registration_11</th>\n",
              "      <th>Registration_12</th>\n",
              "      <th>Registration_13</th>\n",
              "      <th>Registration_14</th>\n",
              "      <th>Registration_15</th>\n",
              "      <th>Registration_16</th>\n",
              "      <th>Registration_17</th>\n",
              "      <th>Registration_18</th>\n",
              "      <th>Registration_19</th>\n",
              "      <th>Registration_20</th>\n",
              "      <th>Registration_21</th>\n",
              "      <th>Registration_22</th>\n",
              "      <th>Registration_23</th>\n",
              "      <th>Registration_24</th>\n",
              "      <th>Registration_25</th>\n",
              "      <th>Registration_26</th>\n",
              "      <th>Registration_27</th>\n",
              "      <th>Registration_28</th>\n",
              "      <th>Registration_29</th>\n",
              "      <th>Registration_30</th>\n",
              "      <th>Registration_31</th>\n",
              "      <th>Registration_32</th>\n",
              "      <th>Registration_33</th>\n",
              "      <th>Registration_34</th>\n",
              "      <th>Registration_35</th>\n",
              "      <th>Registration_36</th>\n",
              "      <th>Registration_37</th>\n",
              "      <th>Registration_38</th>\n",
              "    </tr>\n",
              "  </thead>\n",
              "  <tbody>\n",
              "    <tr>\n",
              "      <th>0</th>\n",
              "      <td>E-1068, Ahmedabad (GUJARAT)</td>\n",
              "      <td>F/176/(GUJ-79-AHD), AHMEDABAD (GUJARAT)</td>\n",
              "      <td>E/12269/AHEMADABAD, AHMEDABAD (GUJARAT)</td>\n",
              "      <td>E/13144, AHMEDABAD (GUJARAT)</td>\n",
              "      <td>E-966, VALSAD (GUJARAT)</td>\n",
              "      <td>E-13773, AHMEDABAD, AHMEDABAD (GUJARAT)</td>\n",
              "      <td>E/3656/SURAT, SURAT (GUJARAT)</td>\n",
              "      <td>E6106KHEDA, SEVALIA (GUJARAT)</td>\n",
              "      <td>E/18436/Ahmedabad, Ahmedabad (GUJARAT)</td>\n",
              "      <td>F/1836/RAJKOT, RAJKOT (GUJARAT)</td>\n",
              "      <td>U85300GJ2020NPL118664, Vapi (GUJARAT)</td>\n",
              "      <td>E-1763-JUNAGADH, JUNAGADH (GUJARAT)</td>\n",
              "      <td>F/1345/BHARUCH, GUJARAT , BHARUCH (GUJARAT)</td>\n",
              "      <td>F/19502/AHMEDABAD, ahmedabad (GUJARAT)</td>\n",
              "      <td>E/15232/Amdavad, AHMEDABAD (GUJARAT)</td>\n",
              "      <td>E/276/RAJKOT, RAJKOT (GUJARAT)</td>\n",
              "      <td>U80903GJ2013PTC078080, HIMMATNAGAR (GUJARAT)</td>\n",
              "      <td>E/12769, Ahmedabad (GUJARAT)</td>\n",
              "      <td>F1302, VAPI (GUJARAT)</td>\n",
              "      <td>E/7947/VADODARA, Vadodara (GUJARAT)</td>\n",
              "      <td>E/17298/Ahmedabad, Ahmedabad (GUJARAT)</td>\n",
              "      <td>E-2541-Rajkot, Rajkot (GUJARAT)</td>\n",
              "      <td>F/3980/Ahmedabad, Ahmedabad (GUJARAT)</td>\n",
              "      <td>F/ 16423/ AHMEDABAD, Ahmedabad (GUJARAT)</td>\n",
              "      <td>U74140GJ2015NPL084618, Ahemadabad (GUJARAT)</td>\n",
              "      <td>F/17853, Bavla (GUJARAT)</td>\n",
              "      <td>U85300GJ2021NPL121550, MAHESANA (GUJARAT)</td>\n",
              "      <td>E/8431/VADODARA, vadodara (GUJARAT)</td>\n",
              "      <td>E/1827/ANAND, ANAND (GUJARAT)</td>\n",
              "      <td>F/1726/DAHOD, DOHAD (GUJARAT)</td>\n",
              "      <td>E/5532/RAJKOT, RAJKOT (GUJARAT)</td>\n",
              "      <td>VAQF021SABARKANTHA, Himmatnagar (GUJARAT)</td>\n",
              "      <td>WAKF - 071 / SURAT, BARDOLI (GUJARAT)</td>\n",
              "      <td>WAKF/009/SURENDRANAGAR, DASADA (GUJARAT)</td>\n",
              "      <td>F 3753 GUJ 3768, mehsana (GUJARAT)</td>\n",
              "      <td>A/1520/AMRELI, KERIYA NAGAS (GUJARAT)</td>\n",
              "      <td>610, Vadodara (GUJARAT)</td>\n",
              "      <td>F-242/KACHCHH, MANDVI KACHCHH (GUJARAT)</td>\n",
              "    </tr>\n",
              "  </tbody>\n",
              "</table>\n",
              "</div>"
            ],
            "text/plain": [
              "                Registration_1  ...                          Registration_38\n",
              "0  E-1068, Ahmedabad (GUJARAT)  ...  F-242/KACHCHH, MANDVI KACHCHH (GUJARAT)\n",
              "\n",
              "[1 rows x 38 columns]"
            ]
          },
          "metadata": {},
          "execution_count": 17
        }
      ]
    },
    {
      "cell_type": "code",
      "metadata": {
        "id": "VQb_Tzbt7KPf"
      },
      "source": [
        "# Stacking(appending) all columns"
      ],
      "execution_count": null,
      "outputs": []
    },
    {
      "cell_type": "code",
      "metadata": {
        "id": "k6RI7wLYF1nY"
      },
      "source": [
        "oneCol = []\n",
        "for k in Address_df.columns:\n",
        "    oneCol.append(Address_df[k])\n",
        "\n",
        "Address = pd.DataFrame(oneCol)\n",
        "Address = pd.concat(oneCol, ignore_index=True)"
      ],
      "execution_count": null,
      "outputs": []
    },
    {
      "cell_type": "code",
      "metadata": {
        "id": "ESbQPM2mTe2R"
      },
      "source": [
        "oneCol = []\n",
        "for k in Registration_df.columns:\n",
        "    oneCol.append(Registration_df[k])\n",
        "\n",
        "Registration = pd.DataFrame(oneCol)\n",
        "Registration = pd.concat(oneCol, ignore_index=True)"
      ],
      "execution_count": null,
      "outputs": []
    },
    {
      "cell_type": "code",
      "metadata": {
        "id": "mIHzIAi7F1ud"
      },
      "source": [
        "oneCol = []\n",
        "for k in Sector_df.columns:\n",
        "    oneCol.append(Sector_df[k])\n",
        "\n",
        "Sector = pd.DataFrame(oneCol)\n",
        "Sector = pd.concat(oneCol, ignore_index=True)"
      ],
      "execution_count": null,
      "outputs": []
    },
    {
      "cell_type": "code",
      "metadata": {
        "id": "rre8CwQdXwW3"
      },
      "source": [
        "oneCol = []\n",
        "for k in Name_df.columns:\n",
        "    oneCol.append(Name_df[k])\n",
        "\n",
        "Name = pd.DataFrame(oneCol)\n",
        "Name = pd.concat(oneCol, ignore_index=True)"
      ],
      "execution_count": null,
      "outputs": []
    },
    {
      "cell_type": "code",
      "metadata": {
        "id": "kYogduxC7Ov2"
      },
      "source": [
        "############## Combining all DataFrame ##################"
      ],
      "execution_count": null,
      "outputs": []
    },
    {
      "cell_type": "code",
      "metadata": {
        "id": "SXdAIzOxYDYh",
        "colab": {
          "base_uri": "https://localhost:8080/"
        },
        "outputId": "cbb76c87-5380-4dda-c700-465b5ee352d4"
      },
      "source": [
        "df_list = [Name, Address, Sector, Registration]\n",
        "Final_df = pd.DataFrame(df_list).T\n",
        "Final_df.shape"
      ],
      "execution_count": null,
      "outputs": [
        {
          "output_type": "execute_result",
          "data": {
            "text/plain": [
              "(380, 4)"
            ]
          },
          "metadata": {},
          "execution_count": 22
        }
      ]
    },
    {
      "cell_type": "code",
      "metadata": {
        "id": "LzE1nk_2ZwR-",
        "colab": {
          "base_uri": "https://localhost:8080/",
          "height": 293
        },
        "outputId": "f3351ced-5eee-4796-c737-383b1e78bc7f"
      },
      "source": [
        "Final_df.rename(columns={0: 'Name', 1: 'Address', 2: 'Sector', 3: 'Registration'}, inplace=True)\n",
        "Final_df[:5]"
      ],
      "execution_count": null,
      "outputs": [
        {
          "output_type": "execute_result",
          "data": {
            "text/html": [
              "<div>\n",
              "<style scoped>\n",
              "    .dataframe tbody tr th:only-of-type {\n",
              "        vertical-align: middle;\n",
              "    }\n",
              "\n",
              "    .dataframe tbody tr th {\n",
              "        vertical-align: top;\n",
              "    }\n",
              "\n",
              "    .dataframe thead th {\n",
              "        text-align: right;\n",
              "    }\n",
              "</style>\n",
              "<table border=\"1\" class=\"dataframe\">\n",
              "  <thead>\n",
              "    <tr style=\"text-align: right;\">\n",
              "      <th></th>\n",
              "      <th>Name</th>\n",
              "      <th>Address</th>\n",
              "      <th>Sector</th>\n",
              "      <th>Registration</th>\n",
              "    </tr>\n",
              "  </thead>\n",
              "  <tbody>\n",
              "    <tr>\n",
              "      <th>0</th>\n",
              "      <td>Gujarat Rajya Bal Kalyan Sangh</td>\n",
              "      <td>Himavan, Paldi, Ahmedabad-380006.</td>\n",
              "      <td>Children</td>\n",
              "      <td>E-1068, Ahmedabad (GUJARAT)</td>\n",
              "    </tr>\n",
              "    <tr>\n",
              "      <th>1</th>\n",
              "      <td>GUJARAT RAJYA GRAM VIKAS SAMITI</td>\n",
              "      <td>28 GOVARDHAN SOCIETY (TAWAKKAL) PART 2 SARKHEJ...</td>\n",
              "      <td>Drinking Water,Agriculture,Animal Husbandry, D...</td>\n",
              "      <td>F308, AHMEDABAD (GUJARAT)</td>\n",
              "    </tr>\n",
              "    <tr>\n",
              "      <th>2</th>\n",
              "      <td>Gujarat Rajya Hastkala And Women Audyogik Saha...</td>\n",
              "      <td>474,Sarvoday Commercial Complex, Salpose Road,...</td>\n",
              "      <td>Women's Development &amp; Empowerment</td>\n",
              "      <td>U-6556, Ahmedabad (GUJARAT)</td>\n",
              "    </tr>\n",
              "    <tr>\n",
              "      <th>3</th>\n",
              "      <td>GUJARAT RAJYA JAMEEN GUMAVNAR MANDAL</td>\n",
              "      <td>F.55 MUNCIPAL MARKET PILAJI GUNJ MAHESANA1- 38...</td>\n",
              "      <td>Agriculture,Animal Husbandry, Dairying &amp; Fishe...</td>\n",
              "      <td>E-3847, MAHESANA (GUJARAT)</td>\n",
              "    </tr>\n",
              "    <tr>\n",
              "      <th>4</th>\n",
              "      <td>GUJARAT RAJYA PACCHAT VARG GRAM VIKAS PARISAD</td>\n",
              "      <td>Ambedkar |Nagar 2, P:O; Barwala Ghelasha Dist:...</td>\n",
              "      <td>Agriculture,Education &amp; Literacy,Art &amp; Culture...</td>\n",
              "      <td>F/795, Barwala Ghelasha (GUJARAT)</td>\n",
              "    </tr>\n",
              "  </tbody>\n",
              "</table>\n",
              "</div>"
            ],
            "text/plain": [
              "                                                Name  ...                       Registration\n",
              "0                     Gujarat Rajya Bal Kalyan Sangh  ...        E-1068, Ahmedabad (GUJARAT)\n",
              "1                    GUJARAT RAJYA GRAM VIKAS SAMITI  ...          F308, AHMEDABAD (GUJARAT)\n",
              "2  Gujarat Rajya Hastkala And Women Audyogik Saha...  ...        U-6556, Ahmedabad (GUJARAT)\n",
              "3               GUJARAT RAJYA JAMEEN GUMAVNAR MANDAL  ...         E-3847, MAHESANA (GUJARAT)\n",
              "4      GUJARAT RAJYA PACCHAT VARG GRAM VIKAS PARISAD  ...  F/795, Barwala Ghelasha (GUJARAT)\n",
              "\n",
              "[5 rows x 4 columns]"
            ]
          },
          "metadata": {},
          "execution_count": 23
        }
      ]
    },
    {
      "cell_type": "code",
      "metadata": {
        "id": "KmeJy8UndsYI"
      },
      "source": [
        "#Split column into 'Registration No.' and 'City & State'\n",
        "Col_spl =Final_df['Registration'].str.split(',', expand=True)\n",
        "Col_spl"
      ],
      "execution_count": null,
      "outputs": []
    },
    {
      "cell_type": "code",
      "metadata": {
        "id": "oP6IRIs7eBsF",
        "colab": {
          "base_uri": "https://localhost:8080/",
          "height": 424
        },
        "outputId": "284d9823-4eff-4f85-aecb-1e8dd8ac5d9f"
      },
      "source": [
        "#Split column into City and State\n",
        "Col_no=Col_spl[1].str.split('(', expand=True)\n",
        "Col_no[1] = Col_no[1].str[:-1]\n",
        "Col_no"
      ],
      "execution_count": null,
      "outputs": [
        {
          "output_type": "execute_result",
          "data": {
            "text/html": [
              "<div>\n",
              "<style scoped>\n",
              "    .dataframe tbody tr th:only-of-type {\n",
              "        vertical-align: middle;\n",
              "    }\n",
              "\n",
              "    .dataframe tbody tr th {\n",
              "        vertical-align: top;\n",
              "    }\n",
              "\n",
              "    .dataframe thead th {\n",
              "        text-align: right;\n",
              "    }\n",
              "</style>\n",
              "<table border=\"1\" class=\"dataframe\">\n",
              "  <thead>\n",
              "    <tr style=\"text-align: right;\">\n",
              "      <th></th>\n",
              "      <th>0</th>\n",
              "      <th>1</th>\n",
              "    </tr>\n",
              "  </thead>\n",
              "  <tbody>\n",
              "    <tr>\n",
              "      <th>0</th>\n",
              "      <td>Ahmedabad</td>\n",
              "      <td>GUJARAT</td>\n",
              "    </tr>\n",
              "    <tr>\n",
              "      <th>1</th>\n",
              "      <td>AHMEDABAD</td>\n",
              "      <td>GUJARAT</td>\n",
              "    </tr>\n",
              "    <tr>\n",
              "      <th>2</th>\n",
              "      <td>Ahmedabad</td>\n",
              "      <td>GUJARAT</td>\n",
              "    </tr>\n",
              "    <tr>\n",
              "      <th>3</th>\n",
              "      <td>MAHESANA</td>\n",
              "      <td>GUJARAT</td>\n",
              "    </tr>\n",
              "    <tr>\n",
              "      <th>4</th>\n",
              "      <td>Barwala Ghelasha</td>\n",
              "      <td>GUJARAT</td>\n",
              "    </tr>\n",
              "    <tr>\n",
              "      <th>...</th>\n",
              "      <td>...</td>\n",
              "      <td>...</td>\n",
              "    </tr>\n",
              "    <tr>\n",
              "      <th>375</th>\n",
              "      <td>ARVALLI</td>\n",
              "      <td>GUJARAT</td>\n",
              "    </tr>\n",
              "    <tr>\n",
              "      <th>376</th>\n",
              "      <td>KHEDA</td>\n",
              "      <td>GUJARAT</td>\n",
              "    </tr>\n",
              "    <tr>\n",
              "      <th>377</th>\n",
              "      <td>SABAR KANTHA</td>\n",
              "      <td>GUJARAT</td>\n",
              "    </tr>\n",
              "    <tr>\n",
              "      <th>378</th>\n",
              "      <td>Ahmedabad</td>\n",
              "      <td>GUJARAT</td>\n",
              "    </tr>\n",
              "    <tr>\n",
              "      <th>379</th>\n",
              "      <td>Vadodara</td>\n",
              "      <td>GUJARAT</td>\n",
              "    </tr>\n",
              "  </tbody>\n",
              "</table>\n",
              "<p>380 rows × 2 columns</p>\n",
              "</div>"
            ],
            "text/plain": [
              "                      0        1\n",
              "0            Ahmedabad   GUJARAT\n",
              "1            AHMEDABAD   GUJARAT\n",
              "2            Ahmedabad   GUJARAT\n",
              "3             MAHESANA   GUJARAT\n",
              "4     Barwala Ghelasha   GUJARAT\n",
              "..                  ...      ...\n",
              "375            ARVALLI   GUJARAT\n",
              "376              KHEDA   GUJARAT\n",
              "377       SABAR KANTHA   GUJARAT\n",
              "378          Ahmedabad   GUJARAT\n",
              "379           Vadodara   GUJARAT\n",
              "\n",
              "[380 rows x 2 columns]"
            ]
          },
          "metadata": {},
          "execution_count": 26
        }
      ]
    },
    {
      "cell_type": "code",
      "metadata": {
        "id": "SgFXlJ2kg215"
      },
      "source": [
        "#Updating columns\n",
        "Final_df['Registration No.']=Col_spl[0]\n",
        "Final_df['City']=Col_no[0]\n",
        "Final_df['State']=Col_no[1]"
      ],
      "execution_count": null,
      "outputs": []
    },
    {
      "cell_type": "code",
      "metadata": {
        "id": "t1g_8DIceFgn"
      },
      "source": [
        "Final_df = Final_df.drop('Registration', axis=1)"
      ],
      "execution_count": null,
      "outputs": []
    },
    {
      "cell_type": "code",
      "metadata": {
        "id": "8J8Htk9xkQo1",
        "colab": {
          "base_uri": "https://localhost:8080/",
          "height": 580
        },
        "outputId": "d46df079-c09c-482e-dcf9-d3eceb084c29"
      },
      "source": [
        "Final_df"
      ],
      "execution_count": null,
      "outputs": [
        {
          "output_type": "execute_result",
          "data": {
            "text/html": [
              "<div>\n",
              "<style scoped>\n",
              "    .dataframe tbody tr th:only-of-type {\n",
              "        vertical-align: middle;\n",
              "    }\n",
              "\n",
              "    .dataframe tbody tr th {\n",
              "        vertical-align: top;\n",
              "    }\n",
              "\n",
              "    .dataframe thead th {\n",
              "        text-align: right;\n",
              "    }\n",
              "</style>\n",
              "<table border=\"1\" class=\"dataframe\">\n",
              "  <thead>\n",
              "    <tr style=\"text-align: right;\">\n",
              "      <th></th>\n",
              "      <th>Name</th>\n",
              "      <th>Address</th>\n",
              "      <th>Sector</th>\n",
              "      <th>Registration No.</th>\n",
              "      <th>City</th>\n",
              "      <th>State</th>\n",
              "    </tr>\n",
              "  </thead>\n",
              "  <tbody>\n",
              "    <tr>\n",
              "      <th>0</th>\n",
              "      <td>Gujarat Rajya Bal Kalyan Sangh</td>\n",
              "      <td>Himavan, Paldi, Ahmedabad-380006.</td>\n",
              "      <td>Children</td>\n",
              "      <td>E-1068</td>\n",
              "      <td>Ahmedabad</td>\n",
              "      <td>GUJARAT</td>\n",
              "    </tr>\n",
              "    <tr>\n",
              "      <th>1</th>\n",
              "      <td>GUJARAT RAJYA GRAM VIKAS SAMITI</td>\n",
              "      <td>28 GOVARDHAN SOCIETY (TAWAKKAL) PART 2 SARKHEJ...</td>\n",
              "      <td>Drinking Water,Agriculture,Animal Husbandry, D...</td>\n",
              "      <td>F308</td>\n",
              "      <td>AHMEDABAD</td>\n",
              "      <td>GUJARAT</td>\n",
              "    </tr>\n",
              "    <tr>\n",
              "      <th>2</th>\n",
              "      <td>Gujarat Rajya Hastkala And Women Audyogik Saha...</td>\n",
              "      <td>474,Sarvoday Commercial Complex, Salpose Road,...</td>\n",
              "      <td>Women's Development &amp; Empowerment</td>\n",
              "      <td>U-6556</td>\n",
              "      <td>Ahmedabad</td>\n",
              "      <td>GUJARAT</td>\n",
              "    </tr>\n",
              "    <tr>\n",
              "      <th>3</th>\n",
              "      <td>GUJARAT RAJYA JAMEEN GUMAVNAR MANDAL</td>\n",
              "      <td>F.55 MUNCIPAL MARKET PILAJI GUNJ MAHESANA1- 38...</td>\n",
              "      <td>Agriculture,Animal Husbandry, Dairying &amp; Fishe...</td>\n",
              "      <td>E-3847</td>\n",
              "      <td>MAHESANA</td>\n",
              "      <td>GUJARAT</td>\n",
              "    </tr>\n",
              "    <tr>\n",
              "      <th>4</th>\n",
              "      <td>GUJARAT RAJYA PACCHAT VARG GRAM VIKAS PARISAD</td>\n",
              "      <td>Ambedkar |Nagar 2, P:O; Barwala Ghelasha Dist:...</td>\n",
              "      <td>Agriculture,Education &amp; Literacy,Art &amp; Culture...</td>\n",
              "      <td>F/795</td>\n",
              "      <td>Barwala Ghelasha</td>\n",
              "      <td>GUJARAT</td>\n",
              "    </tr>\n",
              "    <tr>\n",
              "      <th>...</th>\n",
              "      <td>...</td>\n",
              "      <td>...</td>\n",
              "      <td>...</td>\n",
              "      <td>...</td>\n",
              "      <td>...</td>\n",
              "      <td>...</td>\n",
              "    </tr>\n",
              "    <tr>\n",
              "      <th>375</th>\n",
              "      <td>JANKALYAN TRUST</td>\n",
              "      <td>YASH SOCIETY, GAJANAND SOCIETY PASE, MEGHRAJ R...</td>\n",
              "      <td>Education &amp; Literacy,Aged/Elderly,Health &amp; Fam...</td>\n",
              "      <td>F/1949/ARAVALLI</td>\n",
              "      <td>ARVALLI</td>\n",
              "      <td>GUJARAT</td>\n",
              "    </tr>\n",
              "    <tr>\n",
              "      <th>376</th>\n",
              "      <td>JANKALYAN TRUST LAVAL</td>\n",
              "      <td>Dilipbhai, Harijan Vas, At. Laval, Ta. Vaso, D...</td>\n",
              "      <td>Data Not Found</td>\n",
              "      <td>F/2591/KHEDA</td>\n",
              "      <td>KHEDA</td>\n",
              "      <td>GUJARAT</td>\n",
              "    </tr>\n",
              "    <tr>\n",
              "      <th>377</th>\n",
              "      <td>JANKALYAN YUVAK MANDAL DACHAKA</td>\n",
              "      <td>JANTAGAR, DACHA, MEGHRAJ, SABARKANTHA, MEGHRAJ...</td>\n",
              "      <td>Education &amp; Literacy,Aged/Elderly,Health &amp; Fam...</td>\n",
              "      <td>E/1239/SABARKANTHA</td>\n",
              "      <td>SABAR KANTHA</td>\n",
              "      <td>GUJARAT</td>\n",
              "    </tr>\n",
              "    <tr>\n",
              "      <th>378</th>\n",
              "      <td>JANKI ASHRAM SEVA TRUST</td>\n",
              "      <td>11/130, Rameshwar Apartment, Sola Road,NaranPu...</td>\n",
              "      <td>Education &amp; Literacy</td>\n",
              "      <td>E/20079/AHMEDABAD</td>\n",
              "      <td>Ahmedabad</td>\n",
              "      <td>GUJARAT</td>\n",
              "    </tr>\n",
              "    <tr>\n",
              "      <th>379</th>\n",
              "      <td>JANKI JANKALYAN TRUST</td>\n",
              "      <td>Junigadhi, Bhadrakecheri Road, Panigate, Vadod...</td>\n",
              "      <td>Data Not Found</td>\n",
              "      <td>F/1826/VADODARA</td>\n",
              "      <td>Vadodara</td>\n",
              "      <td>GUJARAT</td>\n",
              "    </tr>\n",
              "  </tbody>\n",
              "</table>\n",
              "<p>380 rows × 6 columns</p>\n",
              "</div>"
            ],
            "text/plain": [
              "                                                  Name  ...    State\n",
              "0                       Gujarat Rajya Bal Kalyan Sangh  ...  GUJARAT\n",
              "1                      GUJARAT RAJYA GRAM VIKAS SAMITI  ...  GUJARAT\n",
              "2    Gujarat Rajya Hastkala And Women Audyogik Saha...  ...  GUJARAT\n",
              "3                 GUJARAT RAJYA JAMEEN GUMAVNAR MANDAL  ...  GUJARAT\n",
              "4        GUJARAT RAJYA PACCHAT VARG GRAM VIKAS PARISAD  ...  GUJARAT\n",
              "..                                                 ...  ...      ...\n",
              "375                                    JANKALYAN TRUST  ...  GUJARAT\n",
              "376                              JANKALYAN TRUST LAVAL  ...  GUJARAT\n",
              "377                     JANKALYAN YUVAK MANDAL DACHAKA  ...  GUJARAT\n",
              "378                            JANKI ASHRAM SEVA TRUST  ...  GUJARAT\n",
              "379                              JANKI JANKALYAN TRUST  ...  GUJARAT\n",
              "\n",
              "[380 rows x 6 columns]"
            ]
          },
          "metadata": {},
          "execution_count": 31
        }
      ]
    },
    {
      "cell_type": "code",
      "metadata": {
        "id": "ii3NiM0Z7msF"
      },
      "source": [
        "# determining the name of the file\n",
        "file_name = 'NGO_Data.xlsx'\n",
        "  \n",
        "# saving the excel\n",
        "Final_df.to_excel(file_name, index = False)"
      ],
      "execution_count": null,
      "outputs": []
    },
    {
      "cell_type": "markdown",
      "metadata": {
        "id": "wFs-edoA9iI1"
      },
      "source": [
        "# `Belew code is used to just visualise the saved file`"
      ]
    },
    {
      "cell_type": "code",
      "metadata": {
        "id": "aozVt9Jb8EwT"
      },
      "source": [
        "# Reading an excel file using Python\n",
        "import xlrd\n",
        " \n",
        "# Give the location of the file\n",
        "loc = (\"/content/NGO_Data.xlsx\")\n",
        " \n",
        "excel_file = pd.read_excel(r'/content/NGO_Data.xlsx')\n",
        "excel_df = pd.DataFrame(excel_file)"
      ],
      "execution_count": null,
      "outputs": []
    },
    {
      "cell_type": "code",
      "metadata": {
        "id": "EZpr5-Ki8jAr",
        "colab": {
          "base_uri": "https://localhost:8080/",
          "height": 580
        },
        "outputId": "3756ad2f-22b1-49b9-e929-6e0581f8252f"
      },
      "source": [
        "excel_df"
      ],
      "execution_count": null,
      "outputs": [
        {
          "output_type": "execute_result",
          "data": {
            "text/html": [
              "<div>\n",
              "<style scoped>\n",
              "    .dataframe tbody tr th:only-of-type {\n",
              "        vertical-align: middle;\n",
              "    }\n",
              "\n",
              "    .dataframe tbody tr th {\n",
              "        vertical-align: top;\n",
              "    }\n",
              "\n",
              "    .dataframe thead th {\n",
              "        text-align: right;\n",
              "    }\n",
              "</style>\n",
              "<table border=\"1\" class=\"dataframe\">\n",
              "  <thead>\n",
              "    <tr style=\"text-align: right;\">\n",
              "      <th></th>\n",
              "      <th>Name</th>\n",
              "      <th>Address</th>\n",
              "      <th>Sector</th>\n",
              "      <th>Registration No.</th>\n",
              "      <th>City</th>\n",
              "      <th>State</th>\n",
              "    </tr>\n",
              "  </thead>\n",
              "  <tbody>\n",
              "    <tr>\n",
              "      <th>0</th>\n",
              "      <td>Gujarat Rajya Bal Kalyan Sangh</td>\n",
              "      <td>Himavan, Paldi, Ahmedabad-380006.</td>\n",
              "      <td>Children</td>\n",
              "      <td>E-1068</td>\n",
              "      <td>Ahmedabad</td>\n",
              "      <td>GUJARAT</td>\n",
              "    </tr>\n",
              "    <tr>\n",
              "      <th>1</th>\n",
              "      <td>GUJARAT RAJYA GRAM VIKAS SAMITI</td>\n",
              "      <td>28 GOVARDHAN SOCIETY (TAWAKKAL) PART 2 SARKHEJ...</td>\n",
              "      <td>Drinking Water,Agriculture,Animal Husbandry, D...</td>\n",
              "      <td>F308</td>\n",
              "      <td>AHMEDABAD</td>\n",
              "      <td>GUJARAT</td>\n",
              "    </tr>\n",
              "    <tr>\n",
              "      <th>2</th>\n",
              "      <td>Gujarat Rajya Hastkala And Women Audyogik Saha...</td>\n",
              "      <td>474,Sarvoday Commercial Complex, Salpose Road,...</td>\n",
              "      <td>Women's Development &amp; Empowerment</td>\n",
              "      <td>U-6556</td>\n",
              "      <td>Ahmedabad</td>\n",
              "      <td>GUJARAT</td>\n",
              "    </tr>\n",
              "    <tr>\n",
              "      <th>3</th>\n",
              "      <td>GUJARAT RAJYA JAMEEN GUMAVNAR MANDAL</td>\n",
              "      <td>F.55 MUNCIPAL MARKET PILAJI GUNJ MAHESANA1- 38...</td>\n",
              "      <td>Agriculture,Animal Husbandry, Dairying &amp; Fishe...</td>\n",
              "      <td>E-3847</td>\n",
              "      <td>MAHESANA</td>\n",
              "      <td>GUJARAT</td>\n",
              "    </tr>\n",
              "    <tr>\n",
              "      <th>4</th>\n",
              "      <td>GUJARAT RAJYA PACCHAT VARG GRAM VIKAS PARISAD</td>\n",
              "      <td>Ambedkar |Nagar 2, P:O; Barwala Ghelasha Dist:...</td>\n",
              "      <td>Agriculture,Education &amp; Literacy,Art &amp; Culture...</td>\n",
              "      <td>F/795</td>\n",
              "      <td>Barwala Ghelasha</td>\n",
              "      <td>GUJARAT</td>\n",
              "    </tr>\n",
              "    <tr>\n",
              "      <th>...</th>\n",
              "      <td>...</td>\n",
              "      <td>...</td>\n",
              "      <td>...</td>\n",
              "      <td>...</td>\n",
              "      <td>...</td>\n",
              "      <td>...</td>\n",
              "    </tr>\n",
              "    <tr>\n",
              "      <th>375</th>\n",
              "      <td>JANKALYAN TRUST</td>\n",
              "      <td>YASH SOCIETY, GAJANAND SOCIETY PASE, MEGHRAJ R...</td>\n",
              "      <td>Education &amp; Literacy,Aged/Elderly,Health &amp; Fam...</td>\n",
              "      <td>F/1949/ARAVALLI</td>\n",
              "      <td>ARVALLI</td>\n",
              "      <td>GUJARAT</td>\n",
              "    </tr>\n",
              "    <tr>\n",
              "      <th>376</th>\n",
              "      <td>JANKALYAN TRUST LAVAL</td>\n",
              "      <td>Dilipbhai, Harijan Vas, At. Laval, Ta. Vaso, D...</td>\n",
              "      <td>Data Not Found</td>\n",
              "      <td>F/2591/KHEDA</td>\n",
              "      <td>KHEDA</td>\n",
              "      <td>GUJARAT</td>\n",
              "    </tr>\n",
              "    <tr>\n",
              "      <th>377</th>\n",
              "      <td>JANKALYAN YUVAK MANDAL DACHAKA</td>\n",
              "      <td>JANTAGAR, DACHA, MEGHRAJ, SABARKANTHA, MEGHRAJ...</td>\n",
              "      <td>Education &amp; Literacy,Aged/Elderly,Health &amp; Fam...</td>\n",
              "      <td>E/1239/SABARKANTHA</td>\n",
              "      <td>SABAR KANTHA</td>\n",
              "      <td>GUJARAT</td>\n",
              "    </tr>\n",
              "    <tr>\n",
              "      <th>378</th>\n",
              "      <td>JANKI ASHRAM SEVA TRUST</td>\n",
              "      <td>11/130, Rameshwar Apartment, Sola Road,NaranPu...</td>\n",
              "      <td>Education &amp; Literacy</td>\n",
              "      <td>E/20079/AHMEDABAD</td>\n",
              "      <td>Ahmedabad</td>\n",
              "      <td>GUJARAT</td>\n",
              "    </tr>\n",
              "    <tr>\n",
              "      <th>379</th>\n",
              "      <td>JANKI JANKALYAN TRUST</td>\n",
              "      <td>Junigadhi, Bhadrakecheri Road, Panigate, Vadod...</td>\n",
              "      <td>Data Not Found</td>\n",
              "      <td>F/1826/VADODARA</td>\n",
              "      <td>Vadodara</td>\n",
              "      <td>GUJARAT</td>\n",
              "    </tr>\n",
              "  </tbody>\n",
              "</table>\n",
              "<p>380 rows × 6 columns</p>\n",
              "</div>"
            ],
            "text/plain": [
              "                                                  Name  ...    State\n",
              "0                       Gujarat Rajya Bal Kalyan Sangh  ...  GUJARAT\n",
              "1                      GUJARAT RAJYA GRAM VIKAS SAMITI  ...  GUJARAT\n",
              "2    Gujarat Rajya Hastkala And Women Audyogik Saha...  ...  GUJARAT\n",
              "3                 GUJARAT RAJYA JAMEEN GUMAVNAR MANDAL  ...  GUJARAT\n",
              "4        GUJARAT RAJYA PACCHAT VARG GRAM VIKAS PARISAD  ...  GUJARAT\n",
              "..                                                 ...  ...      ...\n",
              "375                                    JANKALYAN TRUST  ...  GUJARAT\n",
              "376                              JANKALYAN TRUST LAVAL  ...  GUJARAT\n",
              "377                     JANKALYAN YUVAK MANDAL DACHAKA  ...  GUJARAT\n",
              "378                            JANKI ASHRAM SEVA TRUST  ...  GUJARAT\n",
              "379                              JANKI JANKALYAN TRUST  ...  GUJARAT\n",
              "\n",
              "[380 rows x 6 columns]"
            ]
          },
          "metadata": {},
          "execution_count": 46
        }
      ]
    },
    {
      "cell_type": "code",
      "metadata": {
        "id": "lFHNK_Si8iWX"
      },
      "source": [
        ""
      ],
      "execution_count": null,
      "outputs": []
    }
  ]
}